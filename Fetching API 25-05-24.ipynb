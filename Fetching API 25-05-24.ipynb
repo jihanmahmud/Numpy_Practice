{
 "cells": [
  {
   "cell_type": "markdown",
   "id": "42a19e88-521d-4399-9d9d-27a5fe61cc64",
   "metadata": {},
   "source": [
    "### Fetching data by API"
   ]
  },
  {
   "cell_type": "code",
   "execution_count": 5,
   "id": "31c426a5-7e00-49ef-be09-39926ac25a29",
   "metadata": {},
   "outputs": [],
   "source": [
    "import numpy as np \n",
    "import pandas as pd\n",
    "import requests"
   ]
  },
  {
   "cell_type": "code",
   "execution_count": 13,
   "id": "3b6e3808-0927-4eab-96b0-8b8aab0c3d41",
   "metadata": {},
   "outputs": [
    {
     "data": {
      "text/plain": [
       "{'Active Cases_text': '',\n",
       " 'Country_text': 'USA',\n",
       " 'Last Update': '2024-05-25 05:42',\n",
       " 'New Cases_text': '',\n",
       " 'New Deaths_text': '',\n",
       " 'Total Cases_text': '111,820,082',\n",
       " 'Total Deaths_text': '1,219,487',\n",
       " 'Total Recovered_text': '109,814,428'}"
      ]
     },
     "execution_count": 13,
     "metadata": {},
     "output_type": "execute_result"
    }
   ],
   "source": [
    "import requests\n",
    "\n",
    "url = \"https://covid-19-tracking.p.rapidapi.com/v1/usa\"\n",
    "headers = {\n",
    "    \"X-RapidAPI-Key\": \"80bf711dd5msha3d54661a3e2619p19c6bbjsn1c15751be589\",\n",
    "    \"X-RapidAPI-Host\": \"covid-19-tracking.p.rapidapi.com\"\n",
    "}\n",
    "\n",
    "response = requests.get(url, headers=headers)\n",
    "response.json()"
   ]
  },
  {
   "cell_type": "code",
   "execution_count": 14,
   "id": "06208e58-4461-49ba-80bd-94414380dab0",
   "metadata": {},
   "outputs": [
    {
     "data": {
      "text/html": [
       "<div>\n",
       "<style scoped>\n",
       "    .dataframe tbody tr th:only-of-type {\n",
       "        vertical-align: middle;\n",
       "    }\n",
       "\n",
       "    .dataframe tbody tr th {\n",
       "        vertical-align: top;\n",
       "    }\n",
       "\n",
       "    .dataframe thead th {\n",
       "        text-align: right;\n",
       "    }\n",
       "</style>\n",
       "<table border=\"1\" class=\"dataframe\">\n",
       "  <thead>\n",
       "    <tr style=\"text-align: right;\">\n",
       "      <th></th>\n",
       "      <th>Active Cases_text</th>\n",
       "      <th>Country_text</th>\n",
       "      <th>Last Update</th>\n",
       "      <th>New Cases_text</th>\n",
       "      <th>New Deaths_text</th>\n",
       "      <th>Total Cases_text</th>\n",
       "      <th>Total Deaths_text</th>\n",
       "      <th>Total Recovered_text</th>\n",
       "    </tr>\n",
       "  </thead>\n",
       "  <tbody>\n",
       "    <tr>\n",
       "      <th>0</th>\n",
       "      <td></td>\n",
       "      <td>USA</td>\n",
       "      <td>2024-05-25 05:42</td>\n",
       "      <td></td>\n",
       "      <td></td>\n",
       "      <td>111,820,082</td>\n",
       "      <td>1,219,487</td>\n",
       "      <td>109,814,428</td>\n",
       "    </tr>\n",
       "  </tbody>\n",
       "</table>\n",
       "</div>"
      ],
      "text/plain": [
       "  Active Cases_text Country_text       Last Update New Cases_text  \\\n",
       "0                            USA  2024-05-25 05:42                  \n",
       "\n",
       "  New Deaths_text Total Cases_text Total Deaths_text Total Recovered_text  \n",
       "0                      111,820,082         1,219,487          109,814,428  "
      ]
     },
     "execution_count": 14,
     "metadata": {},
     "output_type": "execute_result"
    }
   ],
   "source": [
    "import pandas as pd\n",
    "\n",
    "data = {'Active Cases_text': '',\n",
    "        'Country_text': 'USA',\n",
    "        'Last Update': '2024-05-25 05:42',\n",
    "        'New Cases_text': '',\n",
    "        'New Deaths_text': '',\n",
    "        'Total Cases_text': '111,820,082',\n",
    "        'Total Deaths_text': '1,219,487',\n",
    "        'Total Recovered_text': '109,814,428'}\n",
    "\n",
    "# Create a DataFrame from the dictionary\n",
    "df = pd.DataFrame([data])\n",
    "\n",
    "# Print the DataFrame\n",
    "df\n"
   ]
  },
  {
   "cell_type": "code",
   "execution_count": 19,
   "id": "57dec7ab-f243-4000-8be8-379c95ecf914",
   "metadata": {},
   "outputs": [
    {
     "data": {
      "text/plain": [
       "{'results': []}"
      ]
     },
     "execution_count": 19,
     "metadata": {},
     "output_type": "execute_result"
    }
   ],
   "source": [
    "query = \"Free API\" \n",
    "encoded_query = requests.utils.quote(query)\n",
    "url = f\"https://moviesdatabase.p.rapidapi.com/titles/series/{series_id}\"\n",
    "\n",
    "headers = {\n",
    "    \"X-RapidAPI-Key\": \"80bf711dd5msha3d54661a3e2619p19c6bbjsn1c15751be589\",\n",
    "    \"X-RapidAPI-Host\": \"moviesdatabase.p.rapidapi.com\"\n",
    "}\n",
    "\n",
    "response = requests.get(url, headers=headers)\n",
    "response.json()\n"
   ]
  },
  {
   "cell_type": "code",
   "execution_count": null,
   "id": "35d78a90-fb85-4361-8ecd-2b42f5bfd524",
   "metadata": {},
   "outputs": [],
   "source": []
  }
 ],
 "metadata": {
  "kernelspec": {
   "display_name": "Python 3 (ipykernel)",
   "language": "python",
   "name": "python3"
  },
  "language_info": {
   "codemirror_mode": {
    "name": "ipython",
    "version": 3
   },
   "file_extension": ".py",
   "mimetype": "text/x-python",
   "name": "python",
   "nbconvert_exporter": "python",
   "pygments_lexer": "ipython3",
   "version": "3.11.7"
  }
 },
 "nbformat": 4,
 "nbformat_minor": 5
}
