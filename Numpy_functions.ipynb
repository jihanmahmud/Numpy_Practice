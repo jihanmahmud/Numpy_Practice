{
 "cells": [
  {
   "cell_type": "code",
   "execution_count": 3,
   "id": "26c51fcd-ed37-4515-b6b9-02c33ccd0d78",
   "metadata": {},
   "outputs": [
    {
     "data": {
      "text/plain": [
       "0.45975259644200095"
      ]
     },
     "execution_count": 3,
     "metadata": {},
     "output_type": "execute_result"
    }
   ],
   "source": [
    "import numpy as np\n",
    "np.random.random() #will show random value from 0 to 1."
   ]
  },
  {
   "cell_type": "code",
   "execution_count": 4,
   "id": "34cb9010-cb76-4b9c-a177-406f60e94c9c",
   "metadata": {},
   "outputs": [
    {
     "data": {
      "text/plain": [
       "0.417022004702574"
      ]
     },
     "execution_count": 4,
     "metadata": {},
     "output_type": "execute_result"
    }
   ],
   "source": [
    "np.random.seed(1)\n",
    "np.random.random() #seed function will show same value always."
   ]
  },
  {
   "cell_type": "code",
   "execution_count": 7,
   "id": "8d53f9c7-959a-4f40-8a50-71b5488b4f81",
   "metadata": {},
   "outputs": [
    {
     "data": {
      "text/plain": [
       "5.813995435791039"
      ]
     },
     "execution_count": 7,
     "metadata": {},
     "output_type": "execute_result"
    }
   ],
   "source": [
    "np.random.uniform(4,10) # show random values within the given values."
   ]
  },
  {
   "cell_type": "code",
   "execution_count": 12,
   "id": "8b7e8ce7-3d35-4437-980d-17216ae8e389",
   "metadata": {},
   "outputs": [
    {
     "data": {
      "text/plain": [
       "array([[11.21937465, 45.34145909, 90.95095481, 30.06780069, 29.48975852],\n",
       "       [13.87282864,  2.91732883, 68.20471776, 21.95118348, 27.28911928]])"
      ]
     },
     "execution_count": 12,
     "metadata": {},
     "output_type": "execute_result"
    }
   ],
   "source": [
    "np.random.uniform(1,100,10).reshape(2,5)"
   ]
  },
  {
   "cell_type": "code",
   "execution_count": 21,
   "id": "e0ee08eb-b29a-4a61-869f-395bf423a0ce",
   "metadata": {},
   "outputs": [
    {
     "data": {
      "text/plain": [
       "array([[4, 2, 3, 8, 3],\n",
       "       [7, 1, 3, 7, 7]])"
      ]
     },
     "execution_count": 21,
     "metadata": {},
     "output_type": "execute_result"
    }
   ],
   "source": [
    "np.random.randint(1,10,10).reshape(2,5)"
   ]
  },
  {
   "cell_type": "code",
   "execution_count": 22,
   "id": "8287ea86-874b-4ced-9370-18fdf5e7a5d5",
   "metadata": {},
   "outputs": [],
   "source": [
    "a=np.random.randint(5,20,9)"
   ]
  },
  {
   "cell_type": "code",
   "execution_count": 23,
   "id": "743c696f-044a-41f0-a2b2-5680e4d6efca",
   "metadata": {},
   "outputs": [
    {
     "data": {
      "text/plain": [
       "array([ 7, 12, 12,  5, 11, 10,  6, 15,  9])"
      ]
     },
     "execution_count": 23,
     "metadata": {},
     "output_type": "execute_result"
    }
   ],
   "source": [
    "a"
   ]
  },
  {
   "cell_type": "code",
   "execution_count": 24,
   "id": "e730b5a0-e2e5-46dd-a24b-06e24ec214c6",
   "metadata": {},
   "outputs": [
    {
     "data": {
      "text/plain": [
       "15"
      ]
     },
     "execution_count": 24,
     "metadata": {},
     "output_type": "execute_result"
    }
   ],
   "source": [
    "np.max(a)"
   ]
  },
  {
   "cell_type": "code",
   "execution_count": 26,
   "id": "38bb56fe-5be3-4542-888b-e460cb5cc8a9",
   "metadata": {},
   "outputs": [
    {
     "data": {
      "text/plain": [
       "0.6502878401571168"
      ]
     },
     "execution_count": 26,
     "metadata": {},
     "output_type": "execute_result"
    }
   ],
   "source": [
    "np.sin(max(a))"
   ]
  },
  {
   "cell_type": "code",
   "execution_count": 27,
   "id": "3e83bdfd-2c96-4b1a-895b-28e90cc87c4d",
   "metadata": {},
   "outputs": [
    {
     "data": {
      "text/plain": [
       "15"
      ]
     },
     "execution_count": 27,
     "metadata": {},
     "output_type": "execute_result"
    }
   ],
   "source": [
    "a[np.argmax(a)]"
   ]
  },
  {
   "cell_type": "code",
   "execution_count": 28,
   "id": "056c7e5e-bc52-4552-9d00-af7bf629d1a5",
   "metadata": {},
   "outputs": [
    {
     "data": {
      "text/plain": [
       "5"
      ]
     },
     "execution_count": 28,
     "metadata": {},
     "output_type": "execute_result"
    }
   ],
   "source": [
    "a[np.argmin(a)]"
   ]
  },
  {
   "cell_type": "code",
   "execution_count": 29,
   "id": "0055b40b-8a3b-4c9b-93c1-4b9b7c98d273",
   "metadata": {},
   "outputs": [
    {
     "data": {
      "text/plain": [
       "array([11,  5, 11, 10, 18,  6])"
      ]
     },
     "execution_count": 29,
     "metadata": {},
     "output_type": "execute_result"
    }
   ],
   "source": [
    "a=np.random.randint(5,20,6)\n",
    "a"
   ]
  },
  {
   "cell_type": "code",
   "execution_count": 31,
   "id": "1d0728d5-954c-47f4-a632-91a8329a8cfd",
   "metadata": {},
   "outputs": [],
   "source": [
    "a[a%2==1]=-3"
   ]
  },
  {
   "cell_type": "code",
   "execution_count": 32,
   "id": "e78fefb1-34bb-441f-aeb2-9f365045675d",
   "metadata": {},
   "outputs": [
    {
     "data": {
      "text/plain": [
       "array([-3, -3, -3, 10, 18,  6])"
      ]
     },
     "execution_count": 32,
     "metadata": {},
     "output_type": "execute_result"
    }
   ],
   "source": [
    "a"
   ]
  },
  {
   "cell_type": "code",
   "execution_count": 33,
   "id": "9dcedbf2-51fa-4ff6-8b0a-eaad8324e412",
   "metadata": {},
   "outputs": [
    {
     "data": {
      "text/plain": [
       "array([36, 23, 13, 35, 28, 24])"
      ]
     },
     "execution_count": 33,
     "metadata": {},
     "output_type": "execute_result"
    }
   ],
   "source": [
    "a=np.random.randint(3,50,6)\n",
    "a"
   ]
  },
  {
   "cell_type": "code",
   "execution_count": 34,
   "id": "1b781dbd-8aac-4f5b-98ef-dd8fa71a54f7",
   "metadata": {},
   "outputs": [
    {
     "data": {
      "text/plain": [
       "array([36, -1, -1, -1, 28, 24])"
      ]
     },
     "execution_count": 34,
     "metadata": {},
     "output_type": "execute_result"
    }
   ],
   "source": [
    "np.where(a%2==1, -1, a)"
   ]
  },
  {
   "cell_type": "code",
   "execution_count": 35,
   "id": "37e78509-2c82-49ac-a157-cfacf9ee4234",
   "metadata": {},
   "outputs": [
    {
     "data": {
      "text/plain": [
       "array([36, 23, 13, 35, 28, 24])"
      ]
     },
     "execution_count": 35,
     "metadata": {},
     "output_type": "execute_result"
    }
   ],
   "source": [
    "a"
   ]
  },
  {
   "cell_type": "code",
   "execution_count": 36,
   "id": "7b41d319-bc92-4a76-b57f-18533402b12e",
   "metadata": {},
   "outputs": [],
   "source": [
    "a=np.random.randint(4,50,10)"
   ]
  },
  {
   "cell_type": "code",
   "execution_count": 37,
   "id": "5c2235d4-b3cb-4474-8f7c-94391a0f5a5e",
   "metadata": {},
   "outputs": [
    {
     "data": {
      "text/plain": [
       "array([43, 36, 23, 29, 18, 17, 24, 47, 10, 17])"
      ]
     },
     "execution_count": 37,
     "metadata": {},
     "output_type": "execute_result"
    }
   ],
   "source": [
    "a"
   ]
  },
  {
   "cell_type": "code",
   "execution_count": 38,
   "id": "37e72a38-5bf1-4a2a-af34-cee4abf3113d",
   "metadata": {},
   "outputs": [],
   "source": [
    "a=np.sort(a)"
   ]
  },
  {
   "cell_type": "code",
   "execution_count": 39,
   "id": "453341af-4e38-4f72-b441-59d3c5855221",
   "metadata": {},
   "outputs": [
    {
     "data": {
      "text/plain": [
       "array([10, 17, 17, 18, 23, 24, 29, 36, 43, 47])"
      ]
     },
     "execution_count": 39,
     "metadata": {},
     "output_type": "execute_result"
    }
   ],
   "source": [
    "a"
   ]
  },
  {
   "cell_type": "code",
   "execution_count": 40,
   "id": "29537c2f-a366-4844-bd5d-11632e49a060",
   "metadata": {},
   "outputs": [
    {
     "data": {
      "text/plain": [
       "23.5"
      ]
     },
     "execution_count": 40,
     "metadata": {},
     "output_type": "execute_result"
    }
   ],
   "source": [
    "np.percentile(a,50)"
   ]
  },
  {
   "cell_type": "code",
   "execution_count": 41,
   "id": "93b1971f-b305-4ac0-9239-27816ac96519",
   "metadata": {},
   "outputs": [
    {
     "data": {
      "text/plain": [
       "31.099999999999998"
      ]
     },
     "execution_count": 41,
     "metadata": {},
     "output_type": "execute_result"
    }
   ],
   "source": [
    "np.percentile(a,70)"
   ]
  },
  {
   "cell_type": "code",
   "execution_count": 42,
   "id": "b4e4a3af-e5ed-4822-b478-71b470e32176",
   "metadata": {},
   "outputs": [
    {
     "data": {
      "text/plain": [
       "46.28"
      ]
     },
     "execution_count": 42,
     "metadata": {},
     "output_type": "execute_result"
    }
   ],
   "source": [
    "np.percentile(a,98)"
   ]
  },
  {
   "cell_type": "code",
   "execution_count": null,
   "id": "c923f016-a2df-440d-9ee6-1bdf1a9b7b2b",
   "metadata": {},
   "outputs": [],
   "source": []
  }
 ],
 "metadata": {
  "kernelspec": {
   "display_name": "Python 3 (ipykernel)",
   "language": "python",
   "name": "python3"
  },
  "language_info": {
   "codemirror_mode": {
    "name": "ipython",
    "version": 3
   },
   "file_extension": ".py",
   "mimetype": "text/x-python",
   "name": "python",
   "nbconvert_exporter": "python",
   "pygments_lexer": "ipython3",
   "version": "3.11.7"
  }
 },
 "nbformat": 4,
 "nbformat_minor": 5
}
